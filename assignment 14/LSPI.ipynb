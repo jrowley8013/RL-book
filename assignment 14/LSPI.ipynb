{
 "cells": [
  {
   "cell_type": "code",
   "execution_count": 1,
   "metadata": {},
   "outputs": [],
   "source": [
    "from dataclasses import dataclass\n",
    "from typing import Callable, List, Tuple\n",
    "\n",
    "\n",
    "import matplotlib.pyplot as plt\n",
    "import numpy as np\n"
   ]
  },
  {
   "cell_type": "code",
   "execution_count": 2,
   "metadata": {},
   "outputs": [],
   "source": [
    "@dataclass\n",
    "class QA:\n",
    "    w: np.array\n",
    "    feat_funcs: List[Callable[[float, float], float]]\n",
    "    reg_coef: float = 0.001\n",
    "\n",
    "    def phi(self, state) -> np.array:\n",
    "        return np.array([func(state[1], state[0]) for func in self.feat_funcs])\n",
    "\n",
    "    def evaluate(self, state):\n",
    "        return self.phi(state).T @ self.w\n",
    "\n",
    "\n",
    "@dataclass\n",
    "class AmericanOptionLSPI:\n",
    "    init_price: float\n",
    "    r: float\n",
    "    sigma: float\n",
    "    K: float\n",
    "    maturity_time: float\n",
    "    num_steps: int\n",
    "\n",
    "    def payoff(self, price) -> float:\n",
    "        return np.max(self.K - price, 0)\n",
    "\n",
    "    def generate_price_paths(self, num_paths: int):\n",
    "        state_transitions: List[Tuple[float, float, float]] = []\n",
    "        dt = self.maturity_time / self.num_steps\n",
    "        for _ in range(num_paths):\n",
    "            curr_price: float = self.init_price\n",
    "            for step in range(self.num_steps):\n",
    "                next_price = curr_price * np.exp(\n",
    "                    (self.r - self.sigma ** 2 / 2) * dt\n",
    "                    + (self.sigma * np.sqrt(dt)) * np.random.randn()\n",
    "                )\n",
    "                time_index: float = step * dt\n",
    "                state_transitions.append((time_index, curr_price, next_price))\n",
    "                curr_price = next_price\n",
    "        return state_transitions\n",
    "\n",
    "    def lspi(\n",
    "        self, state_transitions: List[Tuple[float, float, float]], training_iters: int\n",
    "    ) -> QA:\n",
    "\n",
    "        feat_funcs: List[Callable[[float, float], float]] = [\n",
    "            lambda s, t: 1.0,\n",
    "            lambda s, t: np.exp(-s / (self.K * 2)),\n",
    "            lambda s, t: np.exp(-s / (self.K * 2)) * (1 - (s / self.K)),\n",
    "            lambda s, t: np.exp(-s / (self.K * 2))\n",
    "            * (1 - 2 * (s / self.K) + (s / self.K) ** 2 / 2),\n",
    "            lambda s, t: np.sin(\n",
    "                np.pi * (self.maturity_time - t) / (2 * self.maturity_time)\n",
    "            ),\n",
    "            lambda s, t: np.log(self.maturity_time - t),\n",
    "            lambda s, t: np.square(t / self.maturity_time),\n",
    "        ]\n",
    "        n_ffs = len(feat_funcs)\n",
    "\n",
    "        qa = QA(w=np.ones(n_ffs), feat_funcs=feat_funcs)\n",
    "\n",
    "        dt = self.maturity_time / self.num_steps\n",
    "        discount_factor = np.exp(-self.r * dt)\n",
    "\n",
    "        reg_mat = np.eye(n_ffs) * qa.reg_coef\n",
    "        for _ in range(training_iters):\n",
    "\n",
    "            A = np.zeros((n_ffs, n_ffs))\n",
    "            b = np.zeros(n_ffs)\n",
    "\n",
    "            for state in state_transitions:\n",
    "                time_idx = state[0]\n",
    "                curr_price = state[1]\n",
    "                next_price = state[2]\n",
    "\n",
    "                curr_state = (time_idx, curr_price)\n",
    "                next_state = (time_idx, next_price)\n",
    "                continuation: bool = qa.evaluate(next_state) >= self.payoff(next_price)\n",
    "                A += np.outer(\n",
    "                    qa.phi(curr_state),\n",
    "                    qa.phi(curr_state)\n",
    "                    - continuation * discount_factor * qa.phi(next_state),\n",
    "                )\n",
    "                b += (\n",
    "                    discount_factor\n",
    "                    * (\n",
    "                        not continuation\n",
    "                        or np.abs(dt + time_idx - self.maturity_time) < 1.0e-8\n",
    "                    )\n",
    "                    * qa.phi(next_state)\n",
    "                    * self.payoff(next_price)\n",
    "                )\n",
    "            A /= len(state_transitions)\n",
    "            A += reg_mat\n",
    "\n",
    "            b /= len(state_transitions)\n",
    "\n",
    "            w_star = np.linalg.solve(A, b)\n",
    "            qa.w = w_star\n",
    "        return qa\n"
   ]
  },
  {
   "cell_type": "code",
   "execution_count": 3,
   "metadata": {},
   "outputs": [],
   "source": [
    "ao = AmericanOptionLSPI(\n",
    "    init_price=100.0, r=0.05, sigma=0.25, K=100.0, maturity_time=1.0, num_steps=200\n",
    ")\n",
    "\n",
    "D = ao.generate_price_paths(num_paths=100)\n",
    "qa = ao.lspi(state_transitions=D, training_iters=8)\n"
   ]
  },
  {
   "cell_type": "code",
   "execution_count": 4,
   "metadata": {},
   "outputs": [
    {
     "data": {
      "text/plain": [
       "[<matplotlib.lines.Line2D at 0x244a7eea610>]"
      ]
     },
     "execution_count": 4,
     "metadata": {},
     "output_type": "execute_result"
    },
    {
     "data": {
      "image/png": "[encoded data removed]",
      "text/plain": [
       "<Figure size 432x288 with 1 Axes>"
      ]
     },
     "metadata": {
      "needs_background": "light"
     },
     "output_type": "display_data"
    }
   ],
   "source": [
    "# plot optimal exercise boundary\n",
    "\n",
    "ts = []\n",
    "ps = []\n",
    "for t in np.linspace(0, 0.99, num=199):\n",
    "    for p in np.linspace(50, 120, 200):\n",
    "        if qa.evaluate((t, p)) > ao.payoff(p):\n",
    "            ts.append(t)\n",
    "            ps.append(p)\n",
    "            break\n",
    "plt.plot(ts, ps)"
   ]
  },
  {
   "cell_type": "code",
   "execution_count": null,
   "metadata": {},
   "outputs": [],
   "source": []
  }
 ],
 "metadata": {
  "interpreter": {
   "hash": "ed53eb0584307254b0c902844bcf8da812caec015d2a7bef039740197c0a4b91"
  },
  "kernelspec": {
   "display_name": "Python 3.8.12 64-bit ('.venv': venv)",
   "language": "python",
   "name": "python3"
  },
  "language_info": {
   "codemirror_mode": {
    "name": "ipython",
    "version": 3
   },
   "file_extension": ".py",
   "mimetype": "text/x-python",
   "name": "python",
   "nbconvert_exporter": "python",
   "pygments_lexer": "ipython3",
   "version": "3.8.12"
  },
  "orig_nbformat": 4
 },
 "nbformat": 4,
 "nbformat_minor": 2
}
