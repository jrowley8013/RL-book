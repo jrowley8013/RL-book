{
 "cells": [
  {
   "cell_type": "code",
   "execution_count": 1,
   "metadata": {},
   "outputs": [],
   "source": [
    "from rl.markov_process import (\n",
    "    MarkovProcess,\n",
    "    FiniteMarkovRewardProcess,\n",
    "    NonTerminal,\n",
    "    State,\n",
    "    Terminal,\n",
    ")\n",
    "\n",
    "from rl.distribution import Categorical, Constant, FiniteDistribution\n",
    "\n",
    "\n",
    "import matplotlib.pyplot as plt\n",
    "import numpy as np\n",
    "from numpy.random import randint\n",
    "\n",
    "import pandas as pd\n",
    "\n",
    "from dataclasses import dataclass\n",
    "\n",
    "from typing import Dict, Mapping, Tuple"
   ]
  },
  {
   "cell_type": "markdown",
   "metadata": {},
   "source": [
    "#### Frog Problem"
   ]
  },
  {
   "cell_type": "code",
   "execution_count": 2,
   "metadata": {},
   "outputs": [],
   "source": [
    "@dataclass\n",
    "class River:\n",
    "    \"\"\"Class for the river that the froggie attempts to cross.\"\"\"\n",
    "\n",
    "    num_lily_pads: int\n",
    "\n",
    "    @property\n",
    "    def river_bank_idx(self):\n",
    "        \"\"\"Terminal position index corresponding to riverbank.\"\"\"\n",
    "        return self.num_lily_pads\n",
    "\n",
    "\n",
    "@dataclass\n",
    "class Froggie_State(int):\n",
    "\n",
    "    lily_pad_idx: int\n",
    "\n",
    "    def __hash__(self):\n",
    "        return super().__hash__()\n",
    "\n",
    "\n",
    "class Froggie_Mapping(dict):\n",
    "    state_map: Dict[State, float] = {}\n",
    "\n",
    "\n",
    "@dataclass\n",
    "class Froggie_Position(MarkovProcess[Froggie_State]):\n",
    "    river: River\n",
    "\n",
    "    def transition(\n",
    "        self, state: NonTerminal[Froggie_State]\n",
    "    ) -> Categorical[State[Froggie_State]]:\n",
    "        state_map: Dict[State, float] = {}\n",
    "        prob = 1 / (self.river.num_lily_pads - state.lily_pad_idx)\n",
    "\n",
    "        for pad in range(state.lily_pad_idx + 1, self.river.num_lily_pads):\n",
    "            state_map[NonTerminal(Froggie_State(pad))] = prob\n",
    "        state_map[Terminal(Froggie_State(self.river.river_bank_idx))] = prob\n",
    "\n",
    "        return Categorical(state_map)\n"
   ]
  },
  {
   "cell_type": "markdown",
   "metadata": {},
   "source": [
    "#### Modeling the Froggie Puzzle as a Finite Markov Reward Process"
   ]
  },
  {
   "cell_type": "code",
   "execution_count": 3,
   "metadata": {},
   "outputs": [],
   "source": [
    "class FroggieMRPFinite(FiniteMarkovRewardProcess[Froggie_State]):\n",
    "    def __init__(self, river: River):\n",
    "        self.river = river\n",
    "        super().__init__(self.get_transition_reward_map())\n",
    "\n",
    "    def get_transition_reward_map(\n",
    "        self,\n",
    "    ) -> Mapping[Froggie_State, FiniteDistribution[Tuple[Froggie_State, Tuple]]]:\n",
    "        d: Dict[Froggie_State, Categorical[Tuple[Froggie_State, float]]] = {}\n",
    "        reward = 1.0\n",
    "        for starting_pad in np.arange(self.river.num_lily_pads):\n",
    "            state = Froggie_State(starting_pad)\n",
    "            sr_probs_map: Dict[Tuple[Froggie_State, float], float] = {}\n",
    "            prob = 1 / (self.river.num_lily_pads - state.lily_pad_idx)\n",
    "\n",
    "            for pad_idx in range(state.lily_pad_idx + 1, self.river.num_lily_pads):\n",
    "                sr_probs_map[(Froggie_State(pad_idx), reward)] = prob\n",
    "            sr_probs_map[(Froggie_State(self.river.river_bank_idx), reward)] = prob\n",
    "\n",
    "            d[state] = Categorical(sr_probs_map)\n",
    "\n",
    "        return d\n"
   ]
  },
  {
   "cell_type": "code",
   "execution_count": 4,
   "metadata": {},
   "outputs": [
    {
     "data": {
      "text/plain": [
       "array([5.18737752, 5.17737752, 5.16727651, 5.15707243, 5.14676315,\n",
       "       5.13634648, 5.12582017, 5.11518187, 5.10442918, 5.09355961,\n",
       "       5.0825706 , 5.07145949, 5.06022354, 5.0488599 , 5.03736565,\n",
       "       5.02573774, 5.01397303, 5.00206827, 4.99002008, 4.97782496,\n",
       "       4.96547928, 4.95297928, 4.94032105, 4.92750054, 4.91451353,\n",
       "       4.90135563, 4.8880223 , 4.87450878, 4.86081015, 4.84692126,\n",
       "       4.83283676, 4.81855104, 4.80405829, 4.78935241, 4.77442703,\n",
       "       4.75927552, 4.7438909 , 4.7282659 , 4.71239289, 4.69626386,\n",
       "       4.67987041, 4.66320375, 4.64625459, 4.62901321, 4.61146935,\n",
       "       4.59361221, 4.57543039, 4.55691188, 4.53804395, 4.51881318,\n",
       "       4.49920534, 4.47920534, 4.45879718, 4.43796384, 4.41668725,\n",
       "       4.39494812, 4.37272589, 4.34999862, 4.32674281, 4.30293328,\n",
       "       4.27854304, 4.25354304, 4.22790201, 4.20158622, 4.1745592 ,\n",
       "       4.14678142, 4.11820999, 4.08879823, 4.0584952 , 4.0272452 ,\n",
       "       3.99498713, 3.9616538 , 3.92717104, 3.89145675, 3.85441972,\n",
       "       3.81595818, 3.77595818, 3.73429151, 3.69081325, 3.6453587 ,\n",
       "       3.59773966, 3.54773966, 3.49510808, 3.43955252, 3.38072899,\n",
       "       3.31822899, 3.25156233, 3.18013376, 3.10321068, 3.01987734,\n",
       "       2.92896825, 2.82896825, 2.71785714, 2.59285714, 2.45      ,\n",
       "       2.28333333, 2.08333333, 1.83333333, 1.5       , 1.        ])"
      ]
     },
     "execution_count": 4,
     "metadata": {},
     "output_type": "execute_result"
    }
   ],
   "source": [
    "# obtain expected number of hops as a function of starting positionthrough the absence of a discounting factor (gamma = 1.0)\n",
    "\n",
    "river = River(100)\n",
    "\n",
    "fmrp = FroggieMRPFinite(river=river)\n",
    "fmrp.get_value_function_vec(gamma=1.0)\n"
   ]
  }
 ],
 "metadata": {
  "interpreter": {
   "hash": "ed53eb0584307254b0c902844bcf8da812caec015d2a7bef039740197c0a4b91"
  },
  "kernelspec": {
   "display_name": "Python 3.8.1 64-bit ('.venv': venv)",
   "language": "python",
   "name": "python3"
  },
  "language_info": {
   "codemirror_mode": {
    "name": "ipython",
    "version": 3
   },
   "file_extension": ".py",
   "mimetype": "text/x-python",
   "name": "python",
   "nbconvert_exporter": "python",
   "pygments_lexer": "ipython3",
   "version": "3.8.12"
  },
  "orig_nbformat": 4
 },
 "nbformat": 4,
 "nbformat_minor": 2
}
