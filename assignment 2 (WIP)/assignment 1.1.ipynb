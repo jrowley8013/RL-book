{
 "cells": [
  {
   "cell_type": "code",
   "execution_count": 1,
   "metadata": {},
   "outputs": [],
   "source": [
    "from rl.markov_process import (\n",
    "    MarkovProcess,\n",
    "    FiniteMarkovRewardProcess,\n",
    "    NonTerminal,\n",
    "    State,\n",
    "    Terminal,\n",
    ")\n",
    "\n",
    "from rl.distribution import Categorical, Constant, FiniteDistribution\n",
    "\n",
    "\n",
    "import matplotlib.pyplot as plt\n",
    "import numpy as np\n",
    "from numpy.random import randint\n",
    "\n",
    "import pandas as pd\n",
    "\n",
    "from dataclasses import dataclass\n",
    "\n",
    "from typing import Dict, List, Mapping, Optional, Tuple, Union\n"
   ]
  },
  {
   "cell_type": "code",
   "execution_count": 2,
   "metadata": {},
   "outputs": [],
   "source": [
    "@dataclass\n",
    "class SnakesLadders_Board:\n",
    "    \"\"\"Class storing the positions of snakes and ladders on board\"\"\"\n",
    "\n",
    "    tile_array: np.ndarray\n",
    "\n",
    "    @property\n",
    "    def terminal_tile_idx(self):\n",
    "        return len(self.tile_array) - 1\n",
    "\n",
    "    def __len__(self):\n",
    "        return len(self.tile_array)\n",
    "\n",
    "    @classmethod\n",
    "    def generate_snakes_ladders(\n",
    "        cls,\n",
    "        boardsize: int,\n",
    "        num_snakes: int,\n",
    "        num_ladders: int,\n",
    "    ) -> \"SnakesLadders_Board\":\n",
    "        \"\"\"Randomly generate positions of a given number of snakes and ladders.\"\"\"\n",
    "        unoccupied_spots = np.ones(shape=(boardsize), dtype=bool)\n",
    "        tile_array = np.arange(boardsize)\n",
    "        snake_counter, ladder_counter = 0, 0\n",
    "\n",
    "        while snake_counter < num_snakes or ladder_counter < num_ladders:\n",
    "            i = randint(1, boardsize - 1)\n",
    "            while unoccupied_spots[i]:\n",
    "\n",
    "                if snake_counter < num_snakes and i > 2:\n",
    "                    snake_tail = randint(1, i)\n",
    "                    if unoccupied_spots[snake_tail]:\n",
    "                        tile_array[i] = snake_tail\n",
    "                        unoccupied_spots[i] = False\n",
    "                        unoccupied_spots[snake_tail] = False\n",
    "                        snake_counter += 1\n",
    "\n",
    "                elif ladder_counter < num_ladders and i < 99:\n",
    "                    ladder_head = randint(i, boardsize)\n",
    "                    if unoccupied_spots[ladder_head]:\n",
    "                        tile_array[i] = ladder_head\n",
    "                        unoccupied_spots[i] = False\n",
    "                        unoccupied_spots[ladder_head] = False\n",
    "                        ladder_counter += 1\n",
    "\n",
    "        return SnakesLadders_Board(tile_array)\n",
    "\n",
    "\n",
    "@dataclass\n",
    "class SnakesLadders_State(int):\n",
    "    tile_number: int\n",
    "\n",
    "    def __hash__(self):\n",
    "        return super().__hash__()\n",
    "\n",
    "\n",
    "class SnakesLadders_Mapping(dict):\n",
    "    state_map: Dict[State, float] = {}\n",
    "\n",
    "    def add_state(self, state: SnakesLadders_State, prob: float) -> None:\n",
    "        if state in self.state_map.keys():\n",
    "            self.state_map[state] += prob\n",
    "        else:\n",
    "            self.state_map[state] = prob\n",
    "\n",
    "\n",
    "@dataclass\n",
    "class SnakesLadders_Position(MarkovProcess[SnakesLadders_State]):\n",
    "    die_choices: List[int]\n",
    "    board: SnakesLadders_Board\n",
    "\n",
    "    def transition(\n",
    "        self, state: NonTerminal[SnakesLadders_State], die_sides: int\n",
    "    ) -> Categorical[State[SnakesLadders_State]]:\n",
    "        state_mapping = SnakesLadders_Mapping()\n",
    "        for roll in range(1, die_sides + 1):\n",
    "            if state.tile_number + roll < self.board.terminal_tile_idx:\n",
    "                state_mapping.add_state(\n",
    "                    NonTerminal(\n",
    "                        \n",
    "                            SnakesLadders_State(\n",
    "                                self.board.tile_array[state.tile_number + roll]\n",
    "                            )\n",
    "                        ),\n",
    "                        1 / die_sides\n",
    "                    \n",
    "                )\n",
    "            else:\n",
    "                state_mapping.add_state(\n",
    "                    Terminal(SnakesLadders_State(self.board.terminal_tile_idx))\n",
    "                )\n",
    "\n",
    "        return Categorical(state_mapping.state_map)\n"
   ]
  },
  {
   "cell_type": "code",
   "execution_count": 3,
   "metadata": {},
   "outputs": [
    {
     "data": {
      "text/plain": [
       "SnakesLadders_Board(tile_array=array([ 0,  1, 33,  3,  4,  5,  6,  7,  8,  9, 10, 11, 12,  1, 24,  7,  6,\n",
       "       17, 17, 19, 20, 21,  3, 23, 24, 54, 21, 27, 27, 29, 30, 31, 32, 33,\n",
       "        9, 35, 36, 72, 38, 39, 40, 31, 73, 43, 44, 45, 46, 47, 48, 97, 50,\n",
       "       51, 52, 53, 54, 55, 60, 57, 58, 59, 60, 61, 62, 63, 64, 65, 88, 67,\n",
       "       68, 69, 98, 71, 72, 73, 74, 75, 76, 77, 78, 79, 80, 81, 82, 83, 84,\n",
       "       85, 86, 87, 88, 89, 90, 61, 92, 93, 94, 95, 96, 97, 98, 99]))"
      ]
     },
     "execution_count": 3,
     "metadata": {},
     "output_type": "execute_result"
    }
   ],
   "source": [
    "board = SnakesLadders_Board.generate_snakes_ladders(boardsize=100, num_ladders=10, num_snakes=10)\n",
    "board"
   ]
  },
  {
   "cell_type": "code",
   "execution_count": 4,
   "metadata": {},
   "outputs": [],
   "source": [
    "init_state = SnakesLadders_State(0)\n",
    "\n",
    "pos = SnakesLadders_Position(die_choices=[6], board=board).transition(init_state, 6)"
   ]
  },
  {
   "cell_type": "code",
   "execution_count": 5,
   "metadata": {},
   "outputs": [],
   "source": [
    "class SnakesLaddersMRPFinite(FiniteMarkovRewardProcess[SnakesLadders_State]):\n",
    "\n",
    "    def __init__(self, board: SnakesLadders_Board, die_sides: int):\n",
    "        self.board = board\n",
    "        self.die_sides = die_sides\n",
    "        super().__init__(self.get_transition_reward_map())\n",
    "\n",
    "    def get_transition_reward_map(self) -> Mapping[SnakesLadders_State, FiniteDistribution[Tuple[SnakesLadders_State, Tuple]]]:\n",
    "        d: Dict[SnakesLadders_State, Categorical[Tuple[SnakesLadders_State, float]]] = {}\n",
    "        reward = 1.0\n",
    "        for tile_idx in np.arange(len(self.board) - 1):\n",
    "            if tile_idx == self.board.tile_array[tile_idx]:\n",
    "                state = SnakesLadders_State(tile_idx)\n",
    "                sr_probs_map: Dict[Tuple[SnakesLadders_State, float], float] = {}\n",
    "                for roll in np.arange(1, self.die_sides + 1):\n",
    "                    next_state: SnakesLadders_State\n",
    "                    if state.tile_number + roll < self.board.terminal_tile_idx:\n",
    "                        next_state = SnakesLadders_State(self.board.tile_array[state.tile_number + roll])\n",
    "                    else:\n",
    "                        next_state = SnakesLadders_State(self.board.terminal_tile_idx)\n",
    "                    \n",
    "                    if (next_state, reward) in sr_probs_map.keys():\n",
    "                        sr_probs_map[(next_state, reward)] += 1/self.die_sides\n",
    "                    else:\n",
    "                        sr_probs_map[(next_state, reward)] = 1/self.die_sides\n",
    "                d[state] = Categorical(sr_probs_map)\n",
    "        return d"
   ]
  },
  {
   "cell_type": "code",
   "execution_count": 6,
   "metadata": {},
   "outputs": [
    {
     "data": {
      "text/plain": [
       "array([25.34822095, 25.4138936 , 26.63773947, 26.40613066, 26.14724483,\n",
       "       25.87360213, 25.80792948, 24.71790606, 24.87362369, 25.01647775,\n",
       "       24.59392984, 24.23174592, 22.05864239, 19.91348012, 19.87199897,\n",
       "       19.62311205, 18.24688132, 18.17776556, 18.12979056, 18.49744584,\n",
       "       17.76307099, 16.65700606, 16.12071486, 15.61071503, 13.95954443,\n",
       "       13.35682186, 12.9029677 , 12.55071604, 12.26913845,  9.96574807,\n",
       "       10.23471113, 10.43720607, 10.57967291, 10.67001831, 10.70621331,\n",
       "       11.84848951, 11.65217574, 11.43447393, 11.21209068, 10.92338334,\n",
       "       10.67767402, 10.47429313, 10.12826305,  9.87779117,  9.19113934,\n",
       "        9.20341809,  9.21771751,  9.22742964,  8.05208255,  8.37495988,\n",
       "        9.27709054,  9.30351408,  9.28570243, 10.31222382, 10.02061647,\n",
       "        9.74048645,  9.46205529,  9.17883254,  8.88692187,  8.5844303 ,\n",
       "        8.27097239,  8.05970629,  7.79146834,  7.47949608,  7.13545784,\n",
       "        6.76948087,  6.39022493,  6.79210967,  6.18204063,  5.60766254,\n",
       "        5.07122839,  4.57361904,  4.11468934,  2.52162637,  2.16139403,\n",
       "        1.85262346,  1.58796296,  1.36111111,  1.16666667,  1.        ])"
      ]
     },
     "execution_count": 6,
     "metadata": {},
     "output_type": "execute_result"
    }
   ],
   "source": [
    "mrp = SnakesLaddersMRPFinite(board = board, die_sides = 6)\n",
    "mrp.get_value_function_vec(gamma = 1.0)"
   ]
  },
  {
   "cell_type": "code",
   "execution_count": 7,
   "metadata": {},
   "outputs": [
    {
     "data": {
      "text/plain": [
       "array([0.        , 0.        , 0.        , 0.        , 0.        ,\n",
       "       0.        , 0.        , 0.        , 0.        , 0.        ,\n",
       "       0.        , 0.        , 0.        , 0.        , 0.        ,\n",
       "       0.        , 0.        , 0.        , 0.        , 0.        ,\n",
       "       0.        , 0.        , 0.        , 0.        , 0.        ,\n",
       "       0.        , 0.        , 0.        , 0.        , 0.        ,\n",
       "       0.        , 0.        , 0.        , 0.        , 0.        ,\n",
       "       0.        , 0.        , 0.        , 0.        , 0.        ,\n",
       "       0.        , 0.        , 0.        , 0.        , 0.        ,\n",
       "       0.        , 0.        , 0.        , 0.        , 0.        ,\n",
       "       0.        , 0.        , 0.        , 0.        , 0.        ,\n",
       "       0.        , 0.        , 0.        , 0.        , 0.16666667,\n",
       "       0.16666667, 0.16666667, 0.16666667, 0.16666667, 0.16666667,\n",
       "       0.        , 0.        , 0.        , 0.        , 0.        ,\n",
       "       0.        , 0.        , 0.        , 0.        , 0.        ,\n",
       "       0.        , 0.        , 0.        , 0.        , 0.        ])"
      ]
     },
     "execution_count": 7,
     "metadata": {},
     "output_type": "execute_result"
    }
   ],
   "source": [
    "mrp.get_transition_matrix()[:,65]"
   ]
  },
  {
   "cell_type": "code",
   "execution_count": 8,
   "metadata": {},
   "outputs": [
    {
     "data": {
      "text/plain": [
       "{NonTerminal(state=SnakesLadders_State(tile_number=1)): 0.16666666666666669, NonTerminal(state=SnakesLadders_State(tile_number=33)): 0.16666666666666669, NonTerminal(state=SnakesLadders_State(tile_number=3)): 0.16666666666666669, NonTerminal(state=SnakesLadders_State(tile_number=4)): 0.16666666666666669, NonTerminal(state=SnakesLadders_State(tile_number=5)): 0.16666666666666669, NonTerminal(state=SnakesLadders_State(tile_number=6)): 0.16666666666666669}"
      ]
     },
     "execution_count": 8,
     "metadata": {},
     "output_type": "execute_result"
    }
   ],
   "source": [
    "mrp.transition(NonTerminal(SnakesLadders_State(0)))"
   ]
  },
  {
   "cell_type": "code",
   "execution_count": 9,
   "metadata": {},
   "outputs": [],
   "source": [
    "init_state = NonTerminal(SnakesLadders_State(0))\n",
    "init_dist = Constant(init_state)"
   ]
  },
  {
   "cell_type": "code",
   "execution_count": 10,
   "metadata": {},
   "outputs": [
    {
     "data": {
      "text/plain": [
       "Text(0.5, 0, 'roll number')"
      ]
     },
     "execution_count": 10,
     "metadata": {},
     "output_type": "execute_result"
    },
    {
     "data": {
      "image/png": "[encoded data removed]",
      "text/plain": [
       "<Figure size 432x288 with 1 Axes>"
      ]
     },
     "metadata": {
      "needs_background": "light"
     },
     "output_type": "display_data"
    }
   ],
   "source": [
    "total_num_paths = 10\n",
    "\n",
    "path_num = 0\n",
    "for trace in mrp.traces(init_dist):\n",
    "    plt.plot([sim_state.state.tile_number for sim_state in trace])\n",
    "    path_num += 1\n",
    "    if path_num > total_num_paths:\n",
    "        break\n",
    "plt.title(f\"Snakes and Ladders Simulation of {total_num_paths} paths\")\n",
    "plt.ylabel(\"tile index\")\n",
    "plt.xlabel(\"roll number\")"
   ]
  },
  {
   "cell_type": "code",
   "execution_count": 11,
   "metadata": {},
   "outputs": [
    {
     "data": {
      "text/plain": [
       "<matplotlib.axes._subplots.AxesSubplot at 0x29330864400>"
      ]
     },
     "execution_count": 11,
     "metadata": {},
     "output_type": "execute_result"
    },
    {
     "data": {
      "image/png": "[encoded data removed]",
      "text/plain": [
       "<Figure size 432x288 with 1 Axes>"
      ]
     },
     "metadata": {
      "needs_background": "light"
     },
     "output_type": "display_data"
    }
   ],
   "source": [
    "x = 0\n",
    "rolls = []\n",
    "while x < 10_000:\n",
    "    n_rolls = 0\n",
    "    for state in mrp.simulate(init_dist):\n",
    "        n_rolls += 1\n",
    "    x += 1\n",
    "    rolls.append(n_rolls)\n",
    "\n",
    "pd.Series(rolls).plot(kind='density')"
   ]
  },
  {
   "cell_type": "code",
   "execution_count": 12,
   "metadata": {},
   "outputs": [
    {
     "data": {
      "text/plain": [
       "True"
      ]
     },
     "execution_count": 12,
     "metadata": {},
     "output_type": "execute_result"
    }
   ],
   "source": [
    "isinstance(init_state, NonTerminal)"
   ]
  },
  {
   "cell_type": "code",
   "execution_count": 13,
   "metadata": {},
   "outputs": [],
   "source": [
    "# state space: indexed tiles \\subseteq \\{0, ..., 99}, for which |S| = 100 - num_ladders - num_snakes"
   ]
  }
 ],
 "metadata": {
  "interpreter": {
   "hash": "c50d7687e0b50c9000efe278a909302294ab68aa4282751a2d25902086faed4a"
  },
  "kernelspec": {
   "display_name": "Python 3.8.5 64-bit ('LiborCPP': conda)",
   "language": "python",
   "name": "python3"
  },
  "language_info": {
   "codemirror_mode": {
    "name": "ipython",
    "version": 3
   },
   "file_extension": ".py",
   "mimetype": "text/x-python",
   "name": "python",
   "nbconvert_exporter": "python",
   "pygments_lexer": "ipython3",
   "version": "3.8.12"
  },
  "orig_nbformat": 4
 },
 "nbformat": 4,
 "nbformat_minor": 2
}
