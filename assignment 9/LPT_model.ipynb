{
 "cells": [
  {
   "cell_type": "code",
   "execution_count": 1,
   "metadata": {},
   "outputs": [],
   "source": [
    "from rl.distribution import Gaussian\n",
    "from rl.function_approx import FunctionApprox, LinearFunctionApprox\n",
    "from rl.chapter9.optimal_order_execution import OptimalOrderExecution, PriceAndShares\n",
    "import numpy as np\n",
    "\n",
    "from typing import Tuple, Iterator\n",
    "from rl.markov_decision_process import NonTerminal\n",
    "from rl.policy import DeterministicPolicy\n",
    "from rl.approximate_dynamic_programming import ValueFunctionApprox"
   ]
  },
  {
   "cell_type": "markdown",
   "metadata": {},
   "source": [
    "### Modeling an LPT Price Impact"
   ]
  },
  {
   "cell_type": "code",
   "execution_count": 2,
   "metadata": {},
   "outputs": [],
   "source": [
    "init_price_mean: float = 100.0\n",
    "init_price_stdev: float = 0.15\n",
    "num_shares: int = 100\n",
    "num_time_steps = 5\n",
    "beta: float = 0.01\n",
    "theta: float = 0.01\n",
    "mu = 0.03\n",
    "sigma = 0.15\n",
    "eta_sd = 0.15\n",
    "rho = 0.80\n",
    "\n",
    "# price diff : g_{t} = P_t * (beta * R_{t} + theta * X_{t})\n",
    "price_diff = [\n",
    "    lambda p_s_x: p_s_x.price * (beta * p_s_x.shares + theta * p_s_x.X)\n",
    "    for _ in range(num_time_steps)\n",
    "]\n",
    "\n",
    "# price dynamics : P_{t + 1} = P_{t} * e^{Z}, where Z ~ N(mu, sigma)\n",
    "dynamics = [\n",
    "    lambda p_s_x: Gaussian(mu, sigma).map(lambda x : p_s_x.price * np.exp(x))  # lognormal\n",
    "    for _ in range(num_time_steps)\n",
    "]\n",
    "\n",
    "# feature functions\n",
    "ffs = [\n",
    "    lambda p_s_x: p_s_x.state.price,\n",
    "    lambda p_s_x: p_s_x.state.price * p_s_x.state.shares,\n",
    "    lambda p_s_x: p_s_x.state.price * p_s_x.state.X,\n",
    "    lambda p_s_x: p_s_x.state.price * float(p_s_x.state.shares * p_s_x.state.shares),\n",
    "    lambda p_s_x: p_s_x.state.price * float(p_s_x.state.X * p_s_x.state.X),\n",
    "    lambda p_s_x: p_s_x.state.price * float(p_s_x.state.X * p_s_x.state.shares),\n",
    "]\n",
    "\n",
    "fa: FunctionApprox = LinearFunctionApprox.create(feature_functions=ffs)\n",
    "init_price_distrib: Gaussian = Gaussian(init_price_mean, init_price_stdev)\n",
    "init_X_distrib: Gaussian = Gaussian(0.25, eta_sd)\n"
   ]
  },
  {
   "cell_type": "markdown",
   "metadata": {},
   "source": [
    "#### Recursive Formulation of Analytic Solution"
   ]
  },
  {
   "cell_type": "code",
   "execution_count": 3,
   "metadata": {},
   "outputs": [],
   "source": [
    "T = num_time_steps\n",
    "q = np.exp(mu + sigma ** 2 / 2)\n",
    "X_init = 0.0\n",
    "\n",
    "vf_coeff = np.zeros(shape=(6, T))\n",
    "\n",
    "nu = np.zeros(shape=(3, T))\n",
    "\n",
    "# order of const, X, R\n",
    "nu[0, T - 2] = (1 - q) / (2 * beta * (1 + q))\n",
    "nu[1, T - 2] = (theta * (q * rho - 1)) / (2 * beta * (1 + q))\n",
    "nu[2, T - 2] = q / (1 + q)\n",
    "\n",
    "# c^{(0)}_{T - 2}\n",
    "vf_coeff[0, T - 2] = nu[0, T - 2] * (1 - theta * nu[0, T - 2]) - q * nu[0, T - 2] * (\n",
    "    1 + theta * nu[0, T - 2]\n",
    ")\n",
    "vf_coeff[1, T - 2] = (1 - q) * nu[1, T - 2]\n",
    "vf_coeff[2, T - 2] = nu[1, T - 2] * (theta * nu[1, T - 2] - beta) + q * nu[1, T - 2] * (\n",
    "    beta * rho - theta * nu[1, T - 2]\n",
    ")\n",
    "vf_coeff[3, T - 2] = -beta * (1 + rho) * nu[2, T - 2]\n",
    "vf_coeff[4, T - 2] = 2 * nu[2, T - 2]\n",
    "vf_coeff[5, T - 2] = -theta * nu[2, T - 2]\n",
    "\n",
    "for k in range(3, T + 1):\n",
    "    nu[0, T - k] = (q * vf_coeff[4, T - k + 1] - 1) / (\n",
    "        2 * (q * vf_coeff[5, T - k + 1] - theta)\n",
    "    )\n",
    "    nu[1, T - k] = (q * rho * vf_coeff[2, T - k + 1] + beta) / (\n",
    "        2 * (q * vf_coeff[5, T - k + 1] - theta)\n",
    "    )\n",
    "    nu[2, T - k] = (q * vf_coeff[5, T - k + 1]) / (q * vf_coeff[5, T - k + 1] - theta)\n",
    "\n",
    "    vf_coeff[0, T - k] = (\n",
    "        nu[0, T - k] * (1 - theta * nu[0, T - k])\n",
    "        + q * (vf_coeff[0, T - k + 1] + eta_sd ** 2 * vf_coeff[2, T - k])\n",
    "        - q\n",
    "        * nu[0, T - k]\n",
    "        * (vf_coeff[4, T - k + 1] - nu[1, T - k] * vf_coeff[5, T - k + 1])\n",
    "    )\n",
    "    vf_coeff[1, T - k] = q * rho * vf_coeff[1, T - k + 1] - nu[1, T - k] * (\n",
    "        q * vf_coeff[4, T - k + 1] - 1\n",
    "    )\n",
    "    vf_coeff[2, T - k] = (\n",
    "        -nu[1, T - k] * (theta * nu[1, T - k] + beta)\n",
    "        + rho ** 2 * vf_coeff[2, T - k + 1]\n",
    "        - q\n",
    "        * nu[1, T - k]\n",
    "        * (rho * vf_coeff[3, T - k + 1] - nu[1, T - k] * vf_coeff[5, T - k + 1])\n",
    "    )\n",
    "    vf_coeff[3, T - k] = (\n",
    "        -beta * nu[2, T - k] + q * (1 - nu[2, T - k]) * vf_coeff[4, T - k + 1]\n",
    "    )\n",
    "    vf_coeff[4, T - k] = nu[2, T - k] + q * (1 - nu[2, T - k]) * vf_coeff[4, T - k + 1]\n",
    "    vf_coeff[5, T - k] = -theta * nu[2, T - k]\n"
   ]
  },
  {
   "cell_type": "code",
   "execution_count": 4,
   "metadata": {},
   "outputs": [
    {
     "data": {
      "text/plain": [
       "50.0"
      ]
     },
     "execution_count": 4,
     "metadata": {},
     "output_type": "execute_result"
    }
   ],
   "source": [
    "# optimal strategy from 100 shares at time T - 2 and price = 100.00 is to go 50/50:\n",
    "nu[0, T - 2] + X_init * nu[1, T - 2] + 100 * nu[2, T - 2]"
   ]
  },
  {
   "cell_type": "code",
   "execution_count": 5,
   "metadata": {},
   "outputs": [
    {
     "name": "stdout",
     "output_type": "stream",
     "text": [
      "optimal sale sequence [17, 19, 20, 21, 23]\n"
     ]
    }
   ],
   "source": [
    "n_remaining = 100\n",
    "opt_sale = []\n",
    "for k in range(T, 1, -1):\n",
    "    \n",
    "    n_sold = nu[0, T - k] + X_init * nu[1, T - k] + n_remaining * nu[2, T - k]\n",
    "    n_remaining -= n_sold\n",
    "    opt_sale.append(int(np.round(n_sold)))\n",
    "opt_sale.append(100 - np.sum(opt_sale))\n",
    "\n",
    "print(f\"optimal sale sequence {opt_sale}\")"
   ]
  },
  {
   "cell_type": "markdown",
   "metadata": {},
   "source": [
    "#### Evaluating the Value function at t = 0"
   ]
  },
  {
   "cell_type": "code",
   "execution_count": 6,
   "metadata": {},
   "outputs": [
    {
     "data": {
      "text/plain": [
       "9089.012490589019"
      ]
     },
     "execution_count": 6,
     "metadata": {},
     "output_type": "execute_result"
    }
   ],
   "source": [
    "t = 0\n",
    "P_init = 100\n",
    "R_init = 100\n",
    "(P_init * q) * (\n",
    "    vf_coeff[:, t].T\n",
    "    @ np.array([1, X_init, X_init**2, X_init * R_init, R_init, R_init **2 ])\n",
    ")"
   ]
  },
  {
   "cell_type": "markdown",
   "metadata": {},
   "source": [
    "#### Estimating $V^*$ and $\\pi^*$ with backwards induction"
   ]
  },
  {
   "cell_type": "code",
   "execution_count": 7,
   "metadata": {},
   "outputs": [
    {
     "name": "stdout",
     "output_type": "stream",
     "text": [
      "Backward Induction: VF And Policy\n",
      "---------------------------------\n",
      "\n",
      "Time 0\n",
      "\n",
      "Optimal Sales = 9, Opt Val = 9191.096\n",
      "\n",
      "Optimal Weights below:\n",
      "[-6.20878366e+00  6.12929168e-01  6.70240837e+01  3.68268221e-03\n",
      " -4.49960504e-03 -6.76952959e-01]\n",
      "\n",
      "Time 1\n",
      "\n",
      "Optimal Sales = 18, Opt Val = 8282.856\n",
      "\n",
      "Optimal Weights below:\n",
      "[ 0.01559691  1.10587319  0.20269488 -0.00277744  0.20240256 -0.00336973]\n",
      "\n",
      "Time 2\n",
      "\n",
      "Optimal Sales = 17, Opt Val = 7124.106\n",
      "\n",
      "Optimal Weights below:\n",
      "[ 0.10039902  1.06108909 -0.30916911 -0.00349682  0.23399101  0.00717399]\n",
      "\n",
      "Time 3\n",
      "\n",
      "Optimal Sales = 7, Opt Val = 5233.629\n",
      "\n",
      "Optimal Weights below:\n",
      "[ 2.54857905e-02  1.02726343e+00  4.93297156e-03 -5.04155387e-03\n",
      " -6.77632117e-02 -4.18970429e-04]\n",
      "\n",
      "Time 4\n",
      "\n",
      "Optimal Sales = 14, Opt Val = 0.000\n",
      "\n",
      "Optimal Weights below:\n",
      "[ 2.10213707e-14  1.00000000e+00 -2.38191635e-14 -1.00000000e-02\n",
      " -1.30556023e-13  2.24703696e-15]\n",
      "\n"
     ]
    }
   ],
   "source": [
    "ooe: OptimalOrderExecution = OptimalOrderExecution(\n",
    "    shares=num_shares,\n",
    "    time_steps=num_time_steps,\n",
    "    avg_exec_price_diff=price_diff,\n",
    "    price_dynamics=dynamics,\n",
    "    utility_func=lambda x: x,\n",
    "    discount_factor=1,\n",
    "    func_approx=fa,\n",
    "    initial_price_distribution=init_price_distrib,\n",
    "    initial_X_distribution=init_X_distrib,\n",
    "    eta_sd=eta_sd,\n",
    "    rho=rho,\n",
    ")\n",
    "\n",
    "\n",
    "it_vf: Iterator[\n",
    "    Tuple[ValueFunctionApprox[PriceAndShares], DeterministicPolicy[PriceAndShares, int]]\n",
    "] = ooe.backward_induction_vf_and_pi()\n",
    "\n",
    "state: PriceAndShares = PriceAndShares(price=init_price_mean, shares=num_shares)\n",
    "print(\"Backward Induction: VF And Policy\")\n",
    "print(\"---------------------------------\")\n",
    "print()\n",
    "for t, (vf, pol) in enumerate(it_vf):\n",
    "    print(f\"Time {t:d}\")\n",
    "    print()\n",
    "    opt_sale: int = pol.action_for(state)\n",
    "    val: float = vf(NonTerminal(state))\n",
    "    print(f\"Optimal Sales = {opt_sale:d}, Opt Val = {val:.3f}\")\n",
    "    print()\n",
    "    print(\"Optimal Weights below:\")\n",
    "    print(vf.weights.weights)\n",
    "    print()\n"
   ]
  },
  {
   "cell_type": "markdown",
   "metadata": {},
   "source": [
    "The optimal value for Time 0 is not too far off from what we obtained from the analytic formulation!"
   ]
  }
 ],
 "metadata": {
  "interpreter": {
   "hash": "ed53eb0584307254b0c902844bcf8da812caec015d2a7bef039740197c0a4b91"
  },
  "kernelspec": {
   "display_name": "Python 3.8.12 64-bit ('.venv': venv)",
   "language": "python",
   "name": "python3"
  },
  "language_info": {
   "codemirror_mode": {
    "name": "ipython",
    "version": 3
   },
   "file_extension": ".py",
   "mimetype": "text/x-python",
   "name": "python",
   "nbconvert_exporter": "python",
   "pygments_lexer": "ipython3",
   "version": "3.8.12"
  },
  "orig_nbformat": 4
 },
 "nbformat": 4,
 "nbformat_minor": 2
}
