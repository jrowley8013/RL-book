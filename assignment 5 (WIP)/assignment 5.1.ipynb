{
 "cells": [
  {
   "cell_type": "code",
   "execution_count": null,
   "metadata": {},
   "outputs": [],
   "source": [
    "# B-Spline for 1d inputs / outputs : consider internal knots \n",
    "\n",
    "# specify a number of internal knots, in addition to # of duplicates (on left and right)."
   ]
  },
  {
   "cell_type": "code",
   "execution_count": 3,
   "metadata": {},
   "outputs": [],
   "source": [
    "import numpy as np"
   ]
  },
  {
   "cell_type": "code",
   "execution_count": 4,
   "metadata": {},
   "outputs": [],
   "source": [
    "class One_Dim_BSpline:\n",
    "    \"\"\"Spline based upon Bezier Curves.\"\"\"\n",
    "\n",
    "    class BSplineBasisFunc:\n",
    "        knot_arr: np.ndarray\n",
    "\n",
    "        def evaluate(self):\n",
    "            pass\n",
    "\n",
    "    control_points: np.ndarray\n",
    "    num_knots: int\n",
    "\n",
    "    def obtain_basis_functions(self) -> BSplineBasisFunc:\n",
    "        pass\n",
    "\n",
    "    \n",
    "    \n"
   ]
  },
  {
   "cell_type": "code",
   "execution_count": null,
   "metadata": {},
   "outputs": [],
   "source": []
  }
 ],
 "metadata": {
  "interpreter": {
   "hash": "0576e3f4291c2a3cde3d67bd3f89bfcca72aaa3481ccf96b154ecc44a03c2d30"
  },
  "kernelspec": {
   "display_name": "Python 3.8.12 64-bit ('base': conda)",
   "language": "python",
   "name": "python3"
  },
  "language_info": {
   "codemirror_mode": {
    "name": "ipython",
    "version": 3
   },
   "file_extension": ".py",
   "mimetype": "text/x-python",
   "name": "python",
   "nbconvert_exporter": "python",
   "pygments_lexer": "ipython3",
   "version": "3.8.12"
  },
  "orig_nbformat": 4
 },
 "nbformat": 4,
 "nbformat_minor": 2
}
