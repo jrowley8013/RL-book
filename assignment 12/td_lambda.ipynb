{
 "cells": [
  {
   "cell_type": "code",
   "execution_count": 1,
   "metadata": {},
   "outputs": [],
   "source": [
    "# get gradient from self.objective_gradient(seq(x,y), deriv_func)  <- need to deply derivative function by itself.\n",
    "# update_with_gradient(gradient = eligibility function)\n",
    "# can add gradients\n",
    "\n",
    "from dataclasses import dataclass\n",
    "from rl.distribution import Distribution, Constant\n",
    "from rl.dynamic_programming import evaluate_mrp_result\n",
    "from rl.chapter2.simple_inventory_mrp import InventoryState, SimpleInventoryMRPFinite\n",
    "from rl.markov_process import TransitionStep, MarkovRewardProcess, NonTerminal\n",
    "from typing import Dict, Iterable, TypeVar\n",
    "\n",
    "import itertools\n",
    "import numpy as np\n",
    "import pandas as pd"
   ]
  },
  {
   "cell_type": "code",
   "execution_count": 2,
   "metadata": {},
   "outputs": [],
   "source": [
    "S = TypeVar(\"S\")\n",
    "\n",
    "\n",
    "@dataclass\n",
    "class DynamicLearningRate:\n",
    "    alpha: float\n",
    "    beta: float\n",
    "    H: int\n",
    "\n",
    "    def evaluate(self, n: int):\n",
    "        return self.alpha / (1 + ((n - 1) / self.H) ** (self.beta))\n",
    "\n",
    "\n",
    "@dataclass\n",
    "class EligibilityTrace:\n",
    "    trace: Iterable[NonTerminal[S]]\n",
    "\n",
    "    def __post_init__(self):\n",
    "        pass\n",
    "\n",
    "\n",
    "@dataclass\n",
    "class TabularTDLambda:\n",
    "    mrp: MarkovRewardProcess\n",
    "    gamma: float\n",
    "    lambda_param: float\n",
    "    dlr: DynamicLearningRate\n",
    "\n",
    "    def __post_init__(self):\n",
    "        self.vf_dict: Dict[NonTerminal[S], float] = {\n",
    "            state: 0.0 for state in self.mrp.non_terminal_states\n",
    "        }\n",
    "        self.counter_dict: Dict[NonTerminal[S], int] = {\n",
    "            state: 0 for state in self.mrp.non_terminal_states\n",
    "        }\n",
    "\n",
    "    def process_trace(self, trace: Iterable[TransitionStep[S]], n_iter: int = 100):\n",
    "        eligibility_trace: Dict[NonTerminal[S], float] = {\n",
    "            state: 0.0 for state in self.mrp.non_terminal_states\n",
    "        }\n",
    "        for state in itertools.islice(trace, n_iter):\n",
    "\n",
    "            # update each nonterminal state\n",
    "            for s in self.mrp.non_terminal_states:\n",
    "                eligibility_trace[s] *= self.gamma * self.lambda_param\n",
    "                if s == state.state:\n",
    "                    eligibility_trace[s] += 1\n",
    "                self.counter_dict[state.state] += 1\n",
    "                self.vf_dict[s] = (\n",
    "                    self.vf_dict[s]\n",
    "                    + (\n",
    "                        state.reward\n",
    "                        + self.gamma * self.vf_dict[state.next_state]\n",
    "                        - self.vf_dict[state.state]\n",
    "                    )\n",
    "                    * self.dlr.evaluate(self.counter_dict[state.state])\n",
    "                    * eligibility_trace[s]\n",
    "                )\n",
    "\n",
    "    def td_lambda_tabular_vf(\n",
    "        self, init_state_dist: Distribution[NonTerminal[S]], n_traces: int = 1_000\n",
    "    ):\n",
    "        traces: Iterable[TransitionStep[S]] = self.mrp.reward_traces(init_state_dist)\n",
    "        for trace in itertools.islice(traces, n_traces):\n",
    "            self.process_trace(trace=trace)\n"
   ]
  },
  {
   "cell_type": "code",
   "execution_count": 3,
   "metadata": {},
   "outputs": [],
   "source": [
    "si_mrp = SimpleInventoryMRPFinite(\n",
    "    capacity=2,\n",
    "    poisson_lambda=1.0,\n",
    "    holding_cost=1.0,\n",
    "    stockout_cost=10.0,\n",
    ")\n",
    "\n",
    "gamma = 0.9\n",
    "lambda_param = 0.3\n",
    "#episode_length = 20000\n",
    "\n",
    "dlr = DynamicLearningRate(alpha=0.03, beta=0.5, H=10_000)\n",
    "init_state_dist=Constant(NonTerminal(InventoryState(on_hand=0, on_order=0)))\n",
    "\n",
    "traces: Iterable[TransitionStep[S]] = si_mrp.reward_traces(init_state_dist)\n",
    "# for tr in itertools.islice(traces, 1):\n",
    "#     trace = list(itertools.islice(tr, episode_length))"
   ]
  },
  {
   "cell_type": "code",
   "execution_count": 4,
   "metadata": {},
   "outputs": [],
   "source": [
    "si_mrp = SimpleInventoryMRPFinite(\n",
    "    capacity=2,\n",
    "    poisson_lambda=1.0,\n",
    "    holding_cost=1.0,\n",
    "    stockout_cost=10.0,\n",
    ")\n",
    "\n",
    "gamma = 0.9\n",
    "\n",
    "\n",
    "dp_vf = evaluate_mrp_result(si_mrp, gamma=0.9)\n",
    "\n",
    "\n",
    "def vf_rmse(vf1, vf2):\n",
    "    err = 0\n",
    "    for state in vf1.keys():\n",
    "        err += (vf1[state] - vf2[state]) ** 2\n",
    "    return np.sqrt(err)\n",
    "\n",
    "\n",
    "dlr = DynamicLearningRate(alpha=0.03, beta=0.5, H=10_000)\n",
    "batch_size = 1000\n",
    "n_batches = 20\n",
    "\n",
    "rmse_dict = {}\n",
    "\n",
    "for lambda_param in [0.0, 0.2, 0.4, 0.6, 0.8, 1.0]:\n",
    "    running_dict = {state: 0 for state in si_mrp.non_terminal_states}\n",
    "    rmse_dict[lambda_param] = []\n",
    "    ttd = TabularTDLambda(mrp=si_mrp, lambda_param=lambda_param, gamma=gamma, dlr=dlr)\n",
    "\n",
    "    for n in range(n_batches):\n",
    "        ttd.td_lambda_tabular_vf(\n",
    "            init_state_dist=Constant(\n",
    "                NonTerminal(InventoryState(on_hand=0, on_order=0))\n",
    "            ),\n",
    "            n_traces=batch_size,\n",
    "        )\n",
    "        for state in running_dict.keys():\n",
    "            running_dict[state] *= ((n) / (n + 1))\n",
    "            running_dict[state] += (ttd.vf_dict[state] / (n + 1))\n",
    "        rmse_dict[lambda_param].append(vf_rmse(dp_vf, running_dict))\n"
   ]
  },
  {
   "cell_type": "code",
   "execution_count": 5,
   "metadata": {},
   "outputs": [
    {
     "data": {
      "text/plain": [
       "<matplotlib.axes._subplots.AxesSubplot at 0x13383259ca0>"
      ]
     },
     "execution_count": 5,
     "metadata": {},
     "output_type": "execute_result"
    },
    {
     "data": {
      "image/png": "[encoded data removed]",
      "text/plain": [
       "<Figure size 432x288 with 1 Axes>"
      ]
     },
     "metadata": {
      "needs_background": "light"
     },
     "output_type": "display_data"
    }
   ],
   "source": [
    "pd.DataFrame(rmse_dict).plot(title=\"RMSE for different values of lambda\", xlabel = \"batch number\", ylabel = \"rmse\")\n"
   ]
  }
 ],
 "metadata": {
  "interpreter": {
   "hash": "ed53eb0584307254b0c902844bcf8da812caec015d2a7bef039740197c0a4b91"
  },
  "kernelspec": {
   "display_name": "Python 3.8.12 64-bit ('.venv': venv)",
   "language": "python",
   "name": "python3"
  },
  "language_info": {
   "codemirror_mode": {
    "name": "ipython",
    "version": 3
   },
   "file_extension": ".py",
   "mimetype": "text/x-python",
   "name": "python",
   "nbconvert_exporter": "python",
   "pygments_lexer": "ipython3",
   "version": "3.8.12"
  },
  "orig_nbformat": 4
 },
 "nbformat": 4,
 "nbformat_minor": 2
}
