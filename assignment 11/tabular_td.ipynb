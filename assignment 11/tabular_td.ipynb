{
 "cells": [
  {
   "cell_type": "code",
   "execution_count": 1,
   "metadata": {},
   "outputs": [],
   "source": [
    "from dataclasses import dataclass\n",
    "from rl.distribution import Distribution, Constant\n",
    "from rl.chapter2.simple_inventory_mrp import InventoryState, SimpleInventoryMRPFinite\n",
    "from rl.markov_process import TransitionStep, MarkovRewardProcess, NonTerminal\n",
    "from typing import Dict, Iterable, TypeVar\n",
    "\n",
    "import itertools"
   ]
  },
  {
   "cell_type": "code",
   "execution_count": 2,
   "metadata": {},
   "outputs": [],
   "source": [
    "S = TypeVar(\"S\")\n",
    "\n",
    "\n",
    "@dataclass\n",
    "class DynamicLearningRate:\n",
    "    alpha: float\n",
    "    beta: float\n",
    "    H: int\n",
    "\n",
    "    def evaluate(self, n: int):\n",
    "        return self.alpha / (1 + ((n - 1) / self.H) ** (self.beta))\n",
    "\n",
    "\n",
    "@dataclass\n",
    "class TabularTD:\n",
    "    mrp: MarkovRewardProcess\n",
    "    gamma: float\n",
    "    dlr: DynamicLearningRate\n",
    "\n",
    "    def __post_init__(self):\n",
    "        self.vf_dict: Dict[NonTerminal[S], float] = {\n",
    "            state: 0 for state in self.mrp.non_terminal_states\n",
    "        }\n",
    "        self.counter_dict: Dict[NonTerminal[S], int] = {\n",
    "            state: 0 for state in self.mrp.non_terminal_states\n",
    "        }\n",
    "\n",
    "    def process_trace(\n",
    "        self,\n",
    "        trace: Iterable[TransitionStep[S]],\n",
    "        n_iter: int = 1_000,\n",
    "    ):\n",
    "        for state in itertools.islice(trace, n_iter):\n",
    "            self.counter_dict[state.state] += 1\n",
    "            self.vf_dict[state.state] = self.vf_dict[state.state] + (\n",
    "                state.reward\n",
    "                + self.gamma * self.vf_dict[state.next_state]\n",
    "                - self.vf_dict[state.state]\n",
    "            ) * self.dlr.evaluate(self.counter_dict[state.state])\n",
    "\n",
    "    def td_tabular_vf(\n",
    "        self, init_state_dist: Distribution[NonTerminal[S]], n_traces: int = 1_000\n",
    "    ):\n",
    "        traces: Iterable[TransitionStep[S]] = self.mrp.reward_traces(init_state_dist)\n",
    "        for trace in itertools.islice(traces, n_traces):\n",
    "            self.process_trace(trace=trace)\n"
   ]
  },
  {
   "cell_type": "code",
   "execution_count": 3,
   "metadata": {},
   "outputs": [
    {
     "data": {
      "text/plain": [
       "{NonTerminal(state=InventoryState(on_hand=0, on_order=0)): -35.605140581688616,\n",
       " NonTerminal(state=InventoryState(on_hand=0, on_order=1)): -28.02149311468794,\n",
       " NonTerminal(state=InventoryState(on_hand=0, on_order=2)): -28.343959269000017,\n",
       " NonTerminal(state=InventoryState(on_hand=1, on_order=0)): -29.051903582844695,\n",
       " NonTerminal(state=InventoryState(on_hand=1, on_order=1)): -29.350196698337818,\n",
       " NonTerminal(state=InventoryState(on_hand=2, on_order=0)): -30.512487959886048}"
      ]
     },
     "execution_count": 3,
     "metadata": {},
     "output_type": "execute_result"
    }
   ],
   "source": [
    "si_mrp = SimpleInventoryMRPFinite(\n",
    "    capacity=2,\n",
    "    poisson_lambda=1.0,\n",
    "    holding_cost=1.0,\n",
    "    stockout_cost=10.0,\n",
    ")\n",
    "\n",
    "dlr = DynamicLearningRate(alpha=0.03, beta=0.5, H=10000)\n",
    "\n",
    "ttd = TabularTD(mrp=si_mrp, gamma=0.9, dlr=dlr)\n",
    "ttd.td_tabular_vf(\n",
    "    init_state_dist=Constant(NonTerminal(InventoryState(on_hand=0, on_order=0))),\n",
    "    n_traces=1_000,\n",
    ")\n",
    "ttd.vf_dict\n"
   ]
  }
 ],
 "metadata": {
  "interpreter": {
   "hash": "ed53eb0584307254b0c902844bcf8da812caec015d2a7bef039740197c0a4b91"
  },
  "kernelspec": {
   "display_name": "Python 3.8.12 64-bit ('.venv': venv)",
   "language": "python",
   "name": "python3"
  },
  "language_info": {
   "codemirror_mode": {
    "name": "ipython",
    "version": 3
   },
   "file_extension": ".py",
   "mimetype": "text/x-python",
   "name": "python",
   "nbconvert_exporter": "python",
   "pygments_lexer": "ipython3",
   "version": "3.8.12"
  },
  "orig_nbformat": 4
 },
 "nbformat": 4,
 "nbformat_minor": 2
}
