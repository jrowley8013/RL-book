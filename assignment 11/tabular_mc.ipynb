{
 "cells": [
  {
   "cell_type": "code",
   "execution_count": 1,
   "metadata": {},
   "outputs": [],
   "source": [
    "from dataclasses import dataclass\n",
    "from rl.distribution import Constant\n",
    "from rl.chapter2.simple_inventory_mrp import SimpleInventoryMRPFinite\n",
    "from rl.markov_process import MarkovRewardProcess, NonTerminal, TransitionStep\n",
    "from typing import Dict, Iterable, TypeVar\n",
    "\n",
    "import itertools\n",
    "import numpy as np\n"
   ]
  },
  {
   "cell_type": "code",
   "execution_count": 2,
   "metadata": {},
   "outputs": [],
   "source": [
    "S = TypeVar(\"S\")\n",
    "\n",
    "\n",
    "@dataclass\n",
    "class TabularMC:\n",
    "    mrp: MarkovRewardProcess\n",
    "    gamma: float\n",
    "\n",
    "    def trace_reward(self, trace, gamma: float, tol: float = 1e-16):\n",
    "        if gamma != 1.0:\n",
    "            num_steps: int = np.ceil(np.log(tol) / np.log(gamma)).astype(int)\n",
    "            reward_trace = np.array(\n",
    "                [state.reward for state in itertools.islice(trace, num_steps)]\n",
    "            )\n",
    "            discounted_reward = np.dot(\n",
    "                reward_trace, np.array([gamma ** k for k in np.arange(num_steps)])\n",
    "            )\n",
    "            return discounted_reward\n",
    "        else:\n",
    "            *_, last = trace\n",
    "            return last.reward\n",
    "\n",
    "    def mc_tabular_vf(self, n_traces: int = 1_000):\n",
    "        vf_dict: Dict[NonTerminal[S], float] = {}\n",
    "        for init_state in self.mrp.non_terminal_states:\n",
    "            traces: Iterable[TransitionStep[S]] = self.mrp.reward_traces(\n",
    "                Constant(init_state)\n",
    "            )\n",
    "            mc_mean = np.mean(\n",
    "                [\n",
    "                    self.trace_reward(trace=trace, gamma=self.gamma)\n",
    "                    for trace in itertools.islice(traces, n_traces)\n",
    "                ]\n",
    "            )\n",
    "            vf_dict[init_state] = mc_mean\n",
    "        return vf_dict\n"
   ]
  },
  {
   "cell_type": "code",
   "execution_count": 3,
   "metadata": {},
   "outputs": [],
   "source": [
    "si_mrp = SimpleInventoryMRPFinite(\n",
    "    capacity=2,\n",
    "    poisson_lambda=1.0,\n",
    "    holding_cost=1.0,\n",
    "    stockout_cost=10.0,\n",
    ")\n",
    "tmc = TabularMC(mrp=si_mrp, gamma=0.9)\n"
   ]
  },
  {
   "cell_type": "code",
   "execution_count": 4,
   "metadata": {},
   "outputs": [
    {
     "data": {
      "text/plain": [
       "{NonTerminal(state=InventoryState(on_hand=0, on_order=0)): -35.51460522703688,\n",
       " NonTerminal(state=InventoryState(on_hand=0, on_order=1)): -27.903565953345836,\n",
       " NonTerminal(state=InventoryState(on_hand=0, on_order=2)): -28.320435951976002,\n",
       " NonTerminal(state=InventoryState(on_hand=1, on_order=0)): -28.89292092757909,\n",
       " NonTerminal(state=InventoryState(on_hand=1, on_order=1)): -29.340624146825913,\n",
       " NonTerminal(state=InventoryState(on_hand=2, on_order=0)): -30.478455937938158}"
      ]
     },
     "execution_count": 4,
     "metadata": {},
     "output_type": "execute_result"
    }
   ],
   "source": [
    "tmc.mc_tabular_vf(n_traces=5_000)\n"
   ]
  }
 ],
 "metadata": {
  "interpreter": {
   "hash": "ed53eb0584307254b0c902844bcf8da812caec015d2a7bef039740197c0a4b91"
  },
  "kernelspec": {
   "display_name": "Python 3.8.12 64-bit ('.venv': venv)",
   "language": "python",
   "name": "python3"
  },
  "language_info": {
   "codemirror_mode": {
    "name": "ipython",
    "version": 3
   },
   "file_extension": ".py",
   "mimetype": "text/x-python",
   "name": "python",
   "nbconvert_exporter": "python",
   "pygments_lexer": "ipython3",
   "version": "3.8.12"
  },
  "orig_nbformat": 4
 },
 "nbformat": 4,
 "nbformat_minor": 2
}
