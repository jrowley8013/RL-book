{
 "cells": [
  {
   "cell_type": "code",
   "execution_count": 1,
   "metadata": {},
   "outputs": [],
   "source": [
    "import matplotlib.pyplot as plt\n",
    "import numpy as np\n",
    "from dataclasses import dataclass\n",
    "from typing import Tuple\n"
   ]
  },
  {
   "cell_type": "markdown",
   "metadata": {},
   "source": [
    "#### B-Spline Implementation:\n",
    "\n",
    "We apply a formulation of [basis splines](https://mathworld.wolfram.com/B-Spline.html) to randomly generated data."
   ]
  },
  {
   "cell_type": "code",
   "execution_count": 2,
   "metadata": {},
   "outputs": [],
   "source": [
    "@dataclass(repr=False)\n",
    "class One_Dim_BSpline:\n",
    "    \"\"\"One-Dimensional Basis Splines.\"\"\"\n",
    "\n",
    "    control_points: np.array\n",
    "\n",
    "    def set_up_basis_functions(self, curve_type: str, degree: int) -> None:\n",
    "        \"\"\"Set up knot values and initial basis function values.\"\"\"\n",
    "        n = len(self.control_points) - 1\n",
    "        m = degree + n + 1\n",
    "        num_knots = m + 1\n",
    "\n",
    "        self.degree = degree\n",
    "\n",
    "        self.basis_function_0arr = np.zeros(shape=(n + 1))\n",
    "\n",
    "        if curve_type == \"non_periodic\":\n",
    "            # first and last p + 1 knots are null\n",
    "            for i in range(self.degree + 1, m - self.degree):\n",
    "                self.basis_function_0arr[i] = 1\n",
    "            self.knot_array = np.zeros(num_knots)\n",
    "            self.knot_array[self.degree + 1 : m - self.degree] = np.linspace(\n",
    "                0, 1, m - 2 * self.degree - 1\n",
    "            )\n",
    "            self.knot_array[num_knots - self.degree - 1 :] = 1\n",
    "\n",
    "        elif curve_type == \"uniform\":\n",
    "            # all knots are non-null\n",
    "            self.basis_function_0arr[:] = 1\n",
    "            self.knot_array = np.linspace(0, 1, num_knots)\n",
    "\n",
    "    def evaluate_basis_func(self, i: int, j: int, t: float) -> float:\n",
    "        \"\"\"Recursively evaluate basis function.\"\"\"\n",
    "        w1 = 0\n",
    "        w2 = 0\n",
    "\n",
    "        if j == 0:\n",
    "            if self.knot_array[i] <= t and self.knot_array[i + 1] > t:\n",
    "                return 1\n",
    "            return 0\n",
    "        elif (self.knot_array[i + j] - self.knot_array[i]) != 0:\n",
    "            w1 = (\n",
    "                (t - self.knot_array[i])\n",
    "                / (self.knot_array[i + j] - self.knot_array[i])\n",
    "                * self.evaluate_basis_func(i, j - 1, t)\n",
    "            )\n",
    "        if (self.knot_array[i + j + 1] - self.knot_array[i + 1]) != 0:\n",
    "            w2 = (\n",
    "                (self.knot_array[i + j + 1] - t)\n",
    "                / (self.knot_array[i + j + 1] - self.knot_array[i + 1])\n",
    "                * self.evaluate_basis_func(i + 1, j - 1, t)\n",
    "            )\n",
    "\n",
    "        return w1 + w2\n"
   ]
  },
  {
   "cell_type": "markdown",
   "metadata": {},
   "source": [
    "#### Initial test with generated data:\n",
    "\n",
    "Consider a set of control points defined as the image of the stochastic function\n",
    "\n",
    "$$\n",
    "f(t) = t^2 - 0.5 t - 3 + 0.05 z\n",
    "$$\n",
    "\n",
    "where $t \\in \\{0, 1, 2, \\dots, \\frac{n - 1}{n})$ and $z \\sim \\mathcal{N}(0, 1)$"
   ]
  },
  {
   "cell_type": "code",
   "execution_count": 3,
   "metadata": {},
   "outputs": [
    {
     "name": "stdout",
     "output_type": "stream",
     "text": [
      "this spline is 5-times differentiable at each non-duplicate knot.\n"
     ]
    },
    {
     "data": {
      "text/plain": [
       "[<matplotlib.lines.Line2D at 0x2afe0ce9340>]"
      ]
     },
     "execution_count": 3,
     "metadata": {},
     "output_type": "execute_result"
    },
    {
     "data": {
      "image/png": "[encoded data removed]",
      "text/plain": [
       "<Figure size 432x288 with 1 Axes>"
      ]
     },
     "metadata": {
      "needs_background": "light"
     },
     "output_type": "display_data"
    }
   ],
   "source": [
    "control_points = np.array(\n",
    "    [t ** 2 - 0.5 * t - 3 + np.random.normal(scale=0.05) for t in np.linspace(0, 1, 40)]\n",
    ")\n",
    "\n",
    "bspline = One_Dim_BSpline(control_points=control_points)\n",
    "\n",
    "bspline.set_up_basis_functions(curve_type=\"non_periodic\", degree=5)\n",
    "\n",
    "\n",
    "def eval(t, control_points, bspline):\n",
    "    \"\"\"Evaluate the basis spline by summing recursive evaluations.\"\"\"\n",
    "    result = 0\n",
    "    for i in range(len(control_points)):\n",
    "        result += control_points[i] * bspline.evaluate_basis_func(\n",
    "            i=i, j=bspline.degree, t=t\n",
    "        )\n",
    "    return result\n",
    "\n",
    "\n",
    "t_arr = np.linspace(0, 1, 40, endpoint=False)\n",
    "print(f\"this spline is {bspline.degree}-times differentiable at each non-duplicate knot.\")\n",
    "plt.scatter(np.linspace(0, 1, len(control_points)), control_points)\n",
    "plt.plot(t_arr, [eval(t, control_points, bspline) for t in t_arr], color=\"r\")\n"
   ]
  },
  {
   "cell_type": "markdown",
   "metadata": {},
   "source": [
    "Now we will consider data generated by the stochastic function\n",
    "\n",
    "$$\n",
    "f(t) = (at + b) \\cdot e^{-ct} + d + \\sigma z\n",
    "$$\n",
    "\n",
    "Where $z \\sim \\mathcal{N}(0, 1)$.\n",
    "\n",
    "Such a function is used in interest rate modeling to capture caplet volatilities as a function of the tenor."
   ]
  },
  {
   "cell_type": "code",
   "execution_count": 4,
   "metadata": {},
   "outputs": [],
   "source": [
    "def eval_vol_curve(a, b, c, d, sigma, t):\n",
    "    return (a * t + b) * np.exp(-c * t) + d + np.random.normal(scale=sigma)"
   ]
  },
  {
   "cell_type": "code",
   "execution_count": 5,
   "metadata": {},
   "outputs": [
    {
     "data": {
      "text/plain": [
       "<matplotlib.collections.PathCollection at 0x2aff51ba400>"
      ]
     },
     "execution_count": 5,
     "metadata": {},
     "output_type": "execute_result"
    },
    {
     "data": {
      "image/png": "[encoded data removed]",
      "text/plain": [
       "<Figure size 432x288 with 1 Axes>"
      ]
     },
     "metadata": {
      "needs_background": "light"
     },
     "output_type": "display_data"
    }
   ],
   "source": [
    "a = 15\n",
    "b = 0.5\n",
    "c = 7.5\n",
    "d = 0.5\n",
    "sigma = 0.05\n",
    "\n",
    "t_arr = np.linspace(0, 1, 40, endpoint=False)\n",
    "\n",
    "control_points = [eval_vol_curve(a, b, c, d, sigma, t) for t in t_arr]\n",
    "\n",
    "plt.scatter(t_arr, control_points)"
   ]
  },
  {
   "cell_type": "markdown",
   "metadata": {},
   "source": [
    "#### Creating a Generalized Additive Model using a Backfitting Algorithm\n",
    "\n",
    "With this generated data, we use a backfitting algorithm defined [here](https://en.wikipedia.org/wiki/Backfitting_algorithm) to create a generalized additive model from basis splines."
   ]
  },
  {
   "cell_type": "code",
   "execution_count": 6,
   "metadata": {},
   "outputs": [],
   "source": [
    "def backfit_gam(\n",
    "    control_points, num_basis_funcs, degree, niter, tol\n",
    ") -> Tuple[np.ndarray, float]:\n",
    "    \"\"\"Iteratively backfit basis functions to produce converged GAM.\"\"\"\n",
    "    alpha_hat = np.mean(control_points)\n",
    "    func_mat = np.zeros(shape=(num_basis_funcs, len(control_points)))\n",
    "    iter_num = 0\n",
    "    basis_funcs_roster = range(num_basis_funcs)\n",
    "    while iter_num < niter:\n",
    "        if len(basis_funcs_roster) == 0:\n",
    "            break\n",
    "        for j in basis_funcs_roster:\n",
    "\n",
    "            selected_rows = np.arange(num_basis_funcs) != j\n",
    "            other_func_evals = np.sum(func_mat[selected_rows, :], axis=0)\n",
    "\n",
    "            subtracted_vals = control_points - alpha_hat - other_func_evals\n",
    "            bspline = One_Dim_BSpline(control_points=subtracted_vals)\n",
    "            bspline.set_up_basis_functions(curve_type=\"non_periodic\", degree=degree)\n",
    "            f_j = [eval(t, subtracted_vals, bspline) for t in t_arr]\n",
    "            f_j = f_j - np.mean(f_j)\n",
    "            if np.linalg.norm(f_j - func_mat[j, :], ord=2) < tol:\n",
    "                basis_funcs_roster = np.delete(\n",
    "                    basis_funcs_roster, np.where(basis_funcs_roster == j)\n",
    "                )\n",
    "\n",
    "                if len(basis_funcs_roster) == 0:\n",
    "                    break\n",
    "                continue\n",
    "            else:\n",
    "                func_mat[j, :] = f_j\n",
    "\n",
    "        iter_num += 1\n",
    "    return func_mat, alpha_hat\n"
   ]
  },
  {
   "cell_type": "code",
   "execution_count": 7,
   "metadata": {},
   "outputs": [
    {
     "data": {
      "text/plain": [
       "<matplotlib.collections.PathCollection at 0x2aff51f3ee0>"
      ]
     },
     "execution_count": 7,
     "metadata": {},
     "output_type": "execute_result"
    },
    {
     "data": {
      "image/png": "[encoded data removed]",
      "text/plain": [
       "<Figure size 432x288 with 1 Axes>"
      ]
     },
     "metadata": {
      "needs_background": "light"
     },
     "output_type": "display_data"
    }
   ],
   "source": [
    "func_mat, alpha = backfit_gam(\n",
    "    control_points, num_basis_funcs=2, degree=6, niter=100, tol=1e-6\n",
    ")\n",
    "plt.plot(t_arr, np.sum(func_mat, axis=0) + alpha)\n",
    "plt.scatter(t_arr, control_points)\n"
   ]
  }
 ],
 "metadata": {
  "interpreter": {
   "hash": "0576e3f4291c2a3cde3d67bd3f89bfcca72aaa3481ccf96b154ecc44a03c2d30"
  },
  "kernelspec": {
   "display_name": "Python 3.8.12 64-bit ('base': conda)",
   "language": "python",
   "name": "python3"
  },
  "language_info": {
   "codemirror_mode": {
    "name": "ipython",
    "version": 3
   },
   "file_extension": ".py",
   "mimetype": "text/x-python",
   "name": "python",
   "nbconvert_exporter": "python",
   "pygments_lexer": "ipython3",
   "version": "3.8.12"
  },
  "orig_nbformat": 4
 },
 "nbformat": 4,
 "nbformat_minor": 2
}
