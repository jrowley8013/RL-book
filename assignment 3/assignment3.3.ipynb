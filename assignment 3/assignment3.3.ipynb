{
 "cells": [
  {
   "cell_type": "code",
   "execution_count": 1,
   "metadata": {},
   "outputs": [],
   "source": [
    "from dataclasses import dataclass\n",
    "from typing import Dict, Iterator, Mapping, Tuple\n",
    "from rl.distribution import Categorical, Constant\n",
    "from rl.markov_decision_process import FiniteMarkovDecisionProcess\n",
    "from rl.policy import FinitePolicy, FiniteDeterministicPolicy\n",
    "\n",
    "import itertools as it\n",
    "import matplotlib.pyplot as plt\n",
    "import numpy as np\n"
   ]
  },
  {
   "cell_type": "markdown",
   "metadata": {},
   "source": [
    "#### Defining the Froggie-Escape Problem as an MDP:\n",
    "\n",
    "* State Space:  $\\mathcal{S} = \\{0, 1, 2, \\dots, n\\}$, where both $0$, and $n$ are terminal states.\n",
    "\n",
    "* Action Space: $\\mathcal{A} = \\{A, B\\}$\n",
    "\n",
    "* State-Transition Functions: \n",
    "\n",
    "$$\n",
    "\\mathcal{P}(s, A, s') = \\begin{cases} \\frac{n - s}{n} & s' = s+1 \\\\\n",
    "                                      \\frac{s}{n} & s' = s - 1 \\\\\n",
    "                                      0 & \\text{otherwise} \\\\ \\end{cases}\n",
    "$$\n",
    "\n",
    "$$\n",
    "\\mathcal{P}(s, B, s') = \\begin{cases} \\frac{1}{n} & s' \\neq s \\\\\n",
    "                                      0 & \\text{otherwise} \\\\ \\end{cases}\n",
    "$$\n",
    "\n",
    "* State-Reward Functions:  If we want the value function to report the probability of the frog reaching state $n$ before state $0$, we will interpret $r_{t+1} = \\chi(s_{t + 1} = n \\wedge s_t \\neq n )$.  Therefore, if $\\gamma = 1.0$, \n",
    "\n",
    "$$\n",
    "V(s) = \\mathbb{E}[G_t \\big| s_t = s] = \\mathbb{P}[s_T = n \\text{ for some $T > t$ } | s_t = s]\n",
    "$$\n",
    "\n",
    "#### Modeling the Froggie-Escape Problem:"
   ]
  },
  {
   "cell_type": "code",
   "execution_count": 2,
   "metadata": {},
   "outputs": [],
   "source": [
    "@dataclass\n",
    "class Froggie_State(int):\n",
    "    lilypad_idx: int\n",
    "\n",
    "    def __hash__(self):\n",
    "        return super().__hash__()\n",
    "\n",
    "\n",
    "@dataclass\n",
    "class Froggie_Croak(str):\n",
    "    croak: str\n",
    "\n",
    "    def __hash__(self):\n",
    "        return super().__hash__()\n",
    "\n",
    "\n",
    "@dataclass\n",
    "class Froggie_StateActionTransition:\n",
    "\n",
    "    num_lilypads: int\n",
    "    reward_method: str\n",
    "\n",
    "    @property\n",
    "    def get_stateaction_map(\n",
    "        self,\n",
    "    ) -> Mapping[\n",
    "        Froggie_State, Mapping[Froggie_Croak, Categorical[Tuple[Froggie_State, float]]]\n",
    "    ]:\n",
    "        self.stateaction_map = {}\n",
    "        for init_pad in np.arange(1, self.num_lilypads):\n",
    "            for croak in {\"A\", \"B\"}:\n",
    "                self.add_stateaction(state=Froggie_State(init_pad), croak=croak)\n",
    "        return self.stateaction_map\n",
    "\n",
    "    def add_stateaction(self, state: Froggie_State, croak: str) -> None:\n",
    "        if state in self.stateaction_map.keys():\n",
    "\n",
    "            self.stateaction_map[state].update(\n",
    "                {croak: self.prob(action=croak, state=state)}\n",
    "            )\n",
    "        else:\n",
    "            self.stateaction_map[state] = {croak: self.prob(action=croak, state=state)}\n",
    "\n",
    "    def reward(self, state: Froggie_State, next_state: Froggie_State):\n",
    "        if self.reward_method == \"linear\":\n",
    "            return next_state.lilypad_idx\n",
    "        elif self.reward_method == \"comparative_linear\":\n",
    "            return next_state.lilypad_idx - state.lilypad_idx\n",
    "        elif self.reward_method == \"escape\":\n",
    "            return next_state.lilypad_idx == self.num_lilypads\n",
    "        else:\n",
    "            raise NotImplementedError()\n",
    "\n",
    "    def prob(\n",
    "        self,\n",
    "        action: str,\n",
    "        state: Froggie_State,\n",
    "    ) -> Categorical[Tuple[Froggie_State, float]]:\n",
    "        dist = {}\n",
    "        if action == \"A\":\n",
    "            down_state = Froggie_State(state.lilypad_idx - 1)\n",
    "            dist[(down_state, self.reward(state, down_state))] = (\n",
    "                state.lilypad_idx / self.num_lilypads\n",
    "            )\n",
    "\n",
    "            up_state = Froggie_State(state.lilypad_idx + 1)\n",
    "            dist[(up_state, self.reward(state, up_state))] = (\n",
    "                self.num_lilypads - state.lilypad_idx\n",
    "            ) / self.num_lilypads\n",
    "        elif action == \"B\":\n",
    "            for pad_idx in range(0, self.num_lilypads + 1):\n",
    "                if pad_idx == state.lilypad_idx:\n",
    "                    continue\n",
    "                else:\n",
    "                    next_state = Froggie_State(pad_idx)\n",
    "                    dist[(next_state, self.reward(state, next_state))] = (\n",
    "                        1 / self.num_lilypads\n",
    "                    )\n",
    "\n",
    "        else:\n",
    "            raise NotImplementedError()\n",
    "        return Categorical(dist)\n"
   ]
  },
  {
   "cell_type": "markdown",
   "metadata": {},
   "source": [
    "#### Create all Possible Finite Policies"
   ]
  },
  {
   "cell_type": "code",
   "execution_count": 3,
   "metadata": {},
   "outputs": [],
   "source": [
    "def get_all_policy_maps(f: Froggie_StateActionTransition) -> Iterator[FinitePolicy]:\n",
    "    def croak_policy_from_subset(A_subset: Tuple) -> FiniteDeterministicPolicy:\n",
    "        policy_map: Dict[Froggie_State, Froggie_Croak] = {}\n",
    "        for init_pad in np.arange(1, f.num_lilypads):\n",
    "            if init_pad in A_subset:\n",
    "                policy_map[Froggie_State(init_pad)] = Froggie_Croak(\"A\")\n",
    "            else:\n",
    "                policy_map[Froggie_State(init_pad)] = Froggie_Croak(\"B\")\n",
    "        return FiniteDeterministicPolicy(policy_map)\n",
    "\n",
    "    policy_iterator = it.chain([], [])\n",
    "    for r in np.arange(1, f.num_lilypads):\n",
    "        policy_iterator = it.chain(\n",
    "            policy_iterator, it.combinations(iterable=np.arange(1, f.num_lilypads), r=r)\n",
    "        )\n",
    "    return map(croak_policy_from_subset, policy_iterator)\n"
   ]
  },
  {
   "cell_type": "code",
   "execution_count": 4,
   "metadata": {},
   "outputs": [
    {
     "data": {
      "text/plain": [
       "Text(0, 0.5, 'escape probability')"
      ]
     },
     "execution_count": 4,
     "metadata": {},
     "output_type": "execute_result"
    },
    {
     "data": {
      "image/png": "[encoded data removed]",
      "text/plain": [
       "<Figure size 432x288 with 1 Axes>"
      ]
     },
     "metadata": {
      "needs_background": "light"
     },
     "output_type": "display_data"
    }
   ],
   "source": [
    "for n in [3, 6, 9]:\n",
    "\n",
    "    f = Froggie_StateActionTransition(num_lilypads = n, reward_method = \"escape\")\n",
    "    mdp = FiniteMarkovDecisionProcess(f.get_stateaction_map)\n",
    "\n",
    "    V_s = np.zeros(shape = n-1)\n",
    "    opt_policies = [None for x in range(n - 1)]\n",
    "\n",
    "    for policy in get_all_policy_maps(f=f):\n",
    "        mrp = mdp.apply_finite_policy(policy)\n",
    "        V = mrp.get_value_function_vec(gamma = 1)\n",
    "        for idx in np.arange(n-1):\n",
    "            if V_s[idx] < V[idx]:\n",
    "                V_s[idx] = V[idx]\n",
    "                opt_policies[idx] = policy\n",
    "\n",
    "    # verify that all policies are the same for each initial state\n",
    "    for policy in opt_policies:\n",
    "        assert(policy == opt_policies[0])\n",
    "        \n",
    "    plt.plot(np.arange(1, n), V_s, label=f\"n = {n} ; \" + \"\".join([x[-1] for x in str(opt_policies[0]).split('\\n')[:-1]]))\n",
    "    \n",
    "plt.legend(title=\"policy\")\n",
    "plt.xlabel(\"initial state\")\n",
    "plt.ylabel(\"escape probability\")\n",
    "    "
   ]
  },
  {
   "cell_type": "markdown",
   "metadata": {},
   "source": [
    "Amazingly, we see that the optimal policy is consistently given by \"Croak A when at state 1; Croak B otherwise.\"!\n",
    "\n",
    "#### Check with Monte Carlo Simulation"
   ]
  },
  {
   "cell_type": "code",
   "execution_count": 5,
   "metadata": {},
   "outputs": [
    {
     "name": "stdout",
     "output_type": "stream",
     "text": [
      "check for n = 9 ; initial state 0\n",
      "simulated probability : 0.675\n",
      "value function 0.6756756756756744\n"
     ]
    }
   ],
   "source": [
    "from rl.markov_process import NonTerminal\n",
    "\n",
    "s_init = 0\n",
    "policy = opt_policies[s_init]\n",
    "mrp = mdp.apply_finite_policy(policy)\n",
    "num_escapes = 0\n",
    "num_sims = 1_000\n",
    "\n",
    "for _ in range(num_sims):\n",
    "    for hop in mrp.simulate_reward(Constant(NonTerminal(Froggie_State(1)))):\n",
    "        if hop.reward:\n",
    "            num_escapes += 1\n",
    "\n",
    "print(f\"check for n = {n} ; initial state {s_init}\")\n",
    "print(f\"simulated probability : {num_escapes / num_sims}\")\n",
    "print(f\"value function {mrp.get_value_function_vec(gamma = 1)[s_init]}\")"
   ]
  }
 ],
 "metadata": {
  "interpreter": {
   "hash": "ed53eb0584307254b0c902844bcf8da812caec015d2a7bef039740197c0a4b91"
  },
  "kernelspec": {
   "display_name": "Python 3.8.1 64-bit ('.venv': venv)",
   "language": "python",
   "name": "python3"
  },
  "language_info": {
   "codemirror_mode": {
    "name": "ipython",
    "version": 3
   },
   "file_extension": ".py",
   "mimetype": "text/x-python",
   "name": "python",
   "nbconvert_exporter": "python",
   "pygments_lexer": "ipython3",
   "version": "3.8.12"
  },
  "orig_nbformat": 4
 },
 "nbformat": 4,
 "nbformat_minor": 2
}
